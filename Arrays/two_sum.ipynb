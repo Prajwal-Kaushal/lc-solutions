{
 "cells": [
  {
   "cell_type": "markdown",
   "id": "7849b205",
   "metadata": {},
   "source": []
  },
  {
   "cell_type": "code",
   "execution_count": null,
   "id": "c36bc273",
   "metadata": {},
   "outputs": [],
   "source": [
    "# Problem: Two Sum\n",
    "# Link: https://leetcode.com/problems/two-sum/\n",
    "# Difficulty: Easy\n",
    "# Time: O(n)\n",
    "# Space: O(n)"
   ]
  },
  {
   "cell_type": "code",
   "execution_count": 1,
   "id": "65b8f517",
   "metadata": {},
   "outputs": [
    {
     "data": {
      "text/plain": [
       "(0, 1)"
      ]
     },
     "execution_count": 1,
     "metadata": {},
     "output_type": "execute_result"
    }
   ],
   "source": [
    "class solution(object):\n",
    "    def twoSum(self, nums, target):\n",
    "        num_map = {}\n",
    "        for i, num in enumerate(nums):\n",
    "            remainder = target-num\n",
    "            if remainder in num_map:\n",
    "                return num_map[remainder], i\n",
    "            num_map[num] = i\n",
    "    \n",
    "nums = [2, 7, 11, 15]\n",
    "target = 9\n",
    "sol = solution()\n",
    "sol.twoSum(nums, target)\n",
    "        \n"
   ]
  },
  {
   "cell_type": "code",
   "execution_count": null,
   "id": "05d6feaf",
   "metadata": {},
   "outputs": [],
   "source": []
  }
 ],
 "metadata": {
  "kernelspec": {
   "display_name": "visa",
   "language": "python",
   "name": "python3"
  },
  "language_info": {
   "codemirror_mode": {
    "name": "ipython",
    "version": 3
   },
   "file_extension": ".py",
   "mimetype": "text/x-python",
   "name": "python",
   "nbconvert_exporter": "python",
   "pygments_lexer": "ipython3",
   "version": "3.8.19"
  }
 },
 "nbformat": 4,
 "nbformat_minor": 5
}
