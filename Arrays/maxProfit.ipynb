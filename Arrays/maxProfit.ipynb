{
 "cells": [
  {
   "cell_type": "code",
   "execution_count": null,
   "id": "71cbf7da",
   "metadata": {},
   "outputs": [],
   "source": [
    "# long brute force method (O(n2))\n",
    "def maxProfit(prices):\n",
    "    profit = [0]\n",
    "    for i in range(len(prices)):\n",
    "        for j in range(i+1, len(prices)):\n",
    "            if prices[i] < prices[j]:\n",
    "                profit.append(prices[j]-prices[i])\n",
    "\n",
    "    return max(profit)"
   ]
  },
  {
   "cell_type": "code",
   "execution_count": 9,
   "id": "d1d21ebd",
   "metadata": {},
   "outputs": [
    {
     "data": {
      "text/plain": [
       "0"
      ]
     },
     "execution_count": 9,
     "metadata": {},
     "output_type": "execute_result"
    }
   ],
   "source": [
    "prices = [7,6,4,3,1]\n",
    "maxProfit(prices)"
   ]
  },
  {
   "cell_type": "code",
   "execution_count": null,
   "id": "25cf2e94",
   "metadata": {},
   "outputs": [],
   "source": [
    "# Short method (O(n))\n",
    "def maxProfit(prices):\n",
    "    profit = [0]\n",
    "    for i in range(len(prices)):\n",
    "        for j in range(i+1, len(prices)):\n",
    "            if prices[i] < prices[j]:\n",
    "                profit.append(prices[j]-prices[i])\n",
    "\n",
    "    return max(profit)"
   ]
  }
 ],
 "metadata": {
  "kernelspec": {
   "display_name": "visa",
   "language": "python",
   "name": "python3"
  },
  "language_info": {
   "codemirror_mode": {
    "name": "ipython",
    "version": 3
   },
   "file_extension": ".py",
   "mimetype": "text/x-python",
   "name": "python",
   "nbconvert_exporter": "python",
   "pygments_lexer": "ipython3",
   "version": "3.8.19"
  }
 },
 "nbformat": 4,
 "nbformat_minor": 5
}
